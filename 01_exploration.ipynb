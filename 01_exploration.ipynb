{
  "nbformat": 4,
  "nbformat_minor": 0,
  "metadata": {
    "colab": {
      "provenance": [],
      "authorship_tag": "ABX9TyOpmPYivt4E8WeLxkPJxRdV",
      "include_colab_link": true
    },
    "kernelspec": {
      "name": "python3",
      "display_name": "Python 3"
    },
    "language_info": {
      "name": "python"
    }
  },
  "cells": [
    {
      "cell_type": "markdown",
      "metadata": {
        "id": "view-in-github",
        "colab_type": "text"
      },
      "source": [
        "<a href=\"https://colab.research.google.com/github/sankalp294/cognifyz-ds-internship/blob/main/01_exploration.ipynb\" target=\"_parent\"><img src=\"https://colab.research.google.com/assets/colab-badge.svg\" alt=\"Open In Colab\"/></a>"
      ]
    },
    {
      "cell_type": "code",
      "execution_count": 1,
      "metadata": {
        "id": "zN43gQeXDBf2"
      },
      "outputs": [],
      "source": [
        "!pip install -q plotly\n",
        "\n",
        "import pandas as pd\n",
        "import numpy as np\n",
        "import matplotlib.pyplot as plt\n",
        "import seaborn as sns\n",
        "import folium\n",
        "import plotly.express as px\n",
        "\n",
        "from sklearn.model_selection import train_test_split\n",
        "from sklearn.ensemble import RandomForestRegressor\n",
        "from sklearn.metrics import r2_score, mean_squared_error\n"
      ]
    },
    {
      "cell_type": "code",
      "source": [
        "# Load dataset\n",
        "df = pd.read_csv(\"Dataset .csv\", encoding=\"latin1\")\n",
        "\n",
        "# 1. Shape and columns\n",
        "print(\"🔸 Shape of the dataset:\", df.shape)\n",
        "print(\"🔸 Columns:\", df.columns.tolist())\n",
        "\n",
        "# 2. Missing values\n",
        "print(\"\\n🔹 Missing Values:\")\n",
        "print(df.isnull().sum())\n",
        "\n",
        "# 3. Data types\n",
        "print(\"\\n🔸 Data Types:\")\n",
        "print(df.dtypes)\n",
        "\n",
        "# Optional: Convert types (if needed)\n",
        "# Example: df['Votes'] = pd.to_numeric(df['Votes'], errors='coerce')\n",
        "\n",
        "# 4. Target Variable - Aggregate rating\n",
        "print(\"\\n🔹 Target Column 'Aggregate rating' Analysis:\")\n",
        "print(df[\"Aggregate rating\"].describe())\n",
        "\n",
        "# Plotting distribution of aggregate rating\n",
        "plt.figure(figsize=(8, 4))\n",
        "sns.countplot(data=df, x=\"Aggregate rating\", palette=\"coolwarm\")\n",
        "plt.title(\"Distribution of Aggregate Rating\")\n",
        "plt.xlabel(\"Rating\")\n",
        "plt.ylabel(\"Count\")\n",
        "plt.xticks(rotation=0)\n",
        "plt.tight_layout()\n",
        "plt.savefig(\"task1_rating_distribution.png\")\n",
        "plt.show()\n",
        "\n",
        "# Check for imbalance\n",
        "rating_counts = df[\"Aggregate rating\"].value_counts()\n",
        "print(\"\\n🔹 Rating Distribution:\")\n",
        "print(rating_counts)\n"
      ],
      "metadata": {
        "colab": {
          "base_uri": "https://localhost:8080/",
          "height": 1000
        },
        "id": "UJOvwC7VEPqs",
        "outputId": "53bec3cd-034f-4476-93f8-34bdb50b58e0"
      },
      "execution_count": 7,
      "outputs": [
        {
          "output_type": "stream",
          "name": "stdout",
          "text": [
            "🔸 Shape of the dataset: (9551, 21)\n",
            "🔸 Columns: ['ï»¿Restaurant ID', 'Restaurant Name', 'Country Code', 'City', 'Address', 'Locality', 'Locality Verbose', 'Longitude', 'Latitude', 'Cuisines', 'Average Cost for two', 'Currency', 'Has Table booking', 'Has Online delivery', 'Is delivering now', 'Switch to order menu', 'Price range', 'Aggregate rating', 'Rating color', 'Rating text', 'Votes']\n",
            "\n",
            "🔹 Missing Values:\n",
            "ï»¿Restaurant ID        0\n",
            "Restaurant Name         0\n",
            "Country Code            0\n",
            "City                    0\n",
            "Address                 0\n",
            "Locality                0\n",
            "Locality Verbose        0\n",
            "Longitude               0\n",
            "Latitude                0\n",
            "Cuisines                9\n",
            "Average Cost for two    0\n",
            "Currency                0\n",
            "Has Table booking       0\n",
            "Has Online delivery     0\n",
            "Is delivering now       0\n",
            "Switch to order menu    0\n",
            "Price range             0\n",
            "Aggregate rating        0\n",
            "Rating color            0\n",
            "Rating text             0\n",
            "Votes                   0\n",
            "dtype: int64\n",
            "\n",
            "🔸 Data Types:\n",
            "ï»¿Restaurant ID          int64\n",
            "Restaurant Name          object\n",
            "Country Code              int64\n",
            "City                     object\n",
            "Address                  object\n",
            "Locality                 object\n",
            "Locality Verbose         object\n",
            "Longitude               float64\n",
            "Latitude                float64\n",
            "Cuisines                 object\n",
            "Average Cost for two      int64\n",
            "Currency                 object\n",
            "Has Table booking        object\n",
            "Has Online delivery      object\n",
            "Is delivering now        object\n",
            "Switch to order menu     object\n",
            "Price range               int64\n",
            "Aggregate rating        float64\n",
            "Rating color             object\n",
            "Rating text              object\n",
            "Votes                     int64\n",
            "dtype: object\n",
            "\n",
            "🔹 Target Column 'Aggregate rating' Analysis:\n",
            "count    9551.000000\n",
            "mean        2.666370\n",
            "std         1.516378\n",
            "min         0.000000\n",
            "25%         2.500000\n",
            "50%         3.200000\n",
            "75%         3.700000\n",
            "max         4.900000\n",
            "Name: Aggregate rating, dtype: float64\n"
          ]
        },
        {
          "output_type": "stream",
          "name": "stderr",
          "text": [
            "/tmp/ipython-input-7-545381151.py:25: FutureWarning: \n",
            "\n",
            "Passing `palette` without assigning `hue` is deprecated and will be removed in v0.14.0. Assign the `x` variable to `hue` and set `legend=False` for the same effect.\n",
            "\n",
            "  sns.countplot(data=df, x=\"Aggregate rating\", palette=\"coolwarm\")\n"
          ]
        },
        {
          "output_type": "display_data",
          "data": {
            "text/plain": [
              "<Figure size 800x400 with 1 Axes>"
            ],
            "image/png": "[encoded data removed]"
          },
          "metadata": {}
        },
        {
          "output_type": "stream",
          "name": "stdout",
          "text": [
            "\n",
            "🔹 Rating Distribution:\n",
            "Aggregate rating\n",
            "0.0    2148\n",
            "3.2     522\n",
            "3.1     519\n",
            "3.4     498\n",
            "3.3     483\n",
            "3.5     480\n",
            "3.0     468\n",
            "3.6     458\n",
            "3.7     427\n",
            "3.8     400\n",
            "2.9     381\n",
            "3.9     335\n",
            "2.8     315\n",
            "4.1     274\n",
            "4.0     266\n",
            "2.7     250\n",
            "4.2     221\n",
            "2.6     191\n",
            "4.3     174\n",
            "4.4     144\n",
            "2.5     110\n",
            "4.5      95\n",
            "2.4      87\n",
            "4.6      78\n",
            "4.9      61\n",
            "2.3      47\n",
            "4.7      42\n",
            "2.2      27\n",
            "4.8      25\n",
            "2.1      15\n",
            "2.0       7\n",
            "1.9       2\n",
            "1.8       1\n",
            "Name: count, dtype: int64\n"
          ]
        }
      ]
    }
  ]
}