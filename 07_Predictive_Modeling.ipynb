{
  "nbformat": 4,
  "nbformat_minor": 0,
  "metadata": {
    "colab": {
      "provenance": [],
      "authorship_tag": "ABX9TyNln8tcV42s171uHHSWCRUQ",
      "include_colab_link": true
    },
    "kernelspec": {
      "name": "python3",
      "display_name": "Python 3"
    },
    "language_info": {
      "name": "python"
    }
  },
  "cells": [
    {
      "cell_type": "markdown",
      "metadata": {
        "id": "view-in-github",
        "colab_type": "text"
      },
      "source": [
        "<a href=\"https://colab.research.google.com/github/sankalp294/cognifyz-ds-internship/blob/main/07_Predictive_Modeling.ipynb\" target=\"_parent\"><img src=\"https://colab.research.google.com/assets/colab-badge.svg\" alt=\"Open In Colab\"/></a>"
      ]
    },
    {
      "cell_type": "code",
      "execution_count": 6,
      "metadata": {
        "colab": {
          "base_uri": "https://localhost:8080/"
        },
        "id": "gdSBqOYOPQ3A",
        "outputId": "b2422e1e-56cb-4c69-c31a-c37042fa150e"
      },
      "outputs": [
        {
          "output_type": "stream",
          "name": "stdout",
          "text": [
            "✅ Model Evaluation\n",
            "R² Score : 0.938\n",
            "RMSE     : 0.377\n",
            "\n",
            "🎯 Predicted Aggregate Rating (sample): 3.31\n"
          ]
        }
      ],
      "source": [
        "import pandas as pd\n",
        "import numpy as np\n",
        "from sklearn.model_selection import train_test_split\n",
        "from sklearn.ensemble import RandomForestRegressor\n",
        "from sklearn.metrics import r2_score, mean_squared_error\n",
        "\n",
        "# 1. Load the cleaned dataset\n",
        "df = pd.read_csv(\"cleaned_dataset (1).csv\", encoding=\"utf-8\")\n",
        "\n",
        "# 2. Feature engineering\n",
        "df[\"Name_len\"]      = df[\"Restaurant Name\"].astype(str).str.len()\n",
        "df[\"Has_Table\"]     = df[\"Has Table booking\"].map({\"Yes\": 1, \"No\": 0})\n",
        "df[\"Has_Delivery\"]  = df[\"Has Online delivery\"].map({\"Yes\": 1, \"No\": 0})\n",
        "\n",
        "# 3. Select features & target\n",
        "features = [\"Price range\", \"Votes\", \"Name_len\", \"Has_Table\", \"Has_Delivery\"]\n",
        "X = df[features].fillna(0)\n",
        "y = df[\"Aggregate rating\"].fillna(df[\"Aggregate rating\"].median())\n",
        "\n",
        "# 4. Train–test split\n",
        "X_train, X_test, y_train, y_test = train_test_split(\n",
        "    X, y, test_size=0.2, random_state=42\n",
        ")\n",
        "\n",
        "# 5. Train model (Random Forest)\n",
        "model = RandomForestRegressor(n_estimators=300, random_state=42)\n",
        "model.fit(X_train, y_train)\n",
        "\n",
        "# 6. Evaluate model\n",
        "y_pred = model.predict(X_test)\n",
        "r2   = r2_score(y_test, y_pred)\n",
        "rmse = np.sqrt(mean_squared_error(y_test, y_pred))\n",
        "print(\"✅ Model Evaluation\")\n",
        "print(f\"R² Score : {r2:.3f}\")\n",
        "print(f\"RMSE     : {rmse:.3f}\")\n",
        "\n",
        "# 7. Predict aggregate rating for a sample restaurant\n",
        "sample_input = pd.DataFrame({\n",
        "    \"Price range\" : [2],     # 1=low … 4=high\n",
        "    \"Votes\"       : [200],   # number of votes\n",
        "    \"Name_len\"    : [14],    # length of restaurant name\n",
        "    \"Has_Table\"   : [1],     # 1 if table booking, else 0\n",
        "    \"Has_Delivery\": [1]      # 1 if online delivery, else 0\n",
        "})\n",
        "\n",
        "predicted_rating = model.predict(sample_input)[0]\n",
        "print(f\"\\n🎯 Predicted Aggregate Rating (sample): {predicted_rating:.2f}\")\n"
      ]
    }
  ]
}